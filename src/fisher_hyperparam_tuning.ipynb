{
 "cells": [
  {
   "cell_type": "markdown",
   "metadata": {},
   "source": [
    "Imports"
   ]
  },
  {
   "cell_type": "code",
   "execution_count": null,
   "metadata": {},
   "outputs": [],
   "source": [
    "from time import time\n",
    "import logging\n",
    "import matplotlib.pyplot as plt\n",
    "import numpy as np\n",
    "import os\n",
    "import cv2\n",
    "\n",
    "from sklearn.model_selection import train_test_split\n",
    "from sklearn.model_selection import GridSearchCV\n",
    "from sklearn.datasets import fetch_lfw_people\n",
    "from sklearn.metrics import classification_report\n",
    "from sklearn.metrics import confusion_matrix\n",
    "from sklearn.discriminant_analysis import LinearDiscriminantAnalysis as LDA\n",
    "from sklearn.decomposition import PCA\n",
    "from sklearn.svm import SVC"
   ]
  },
  {
   "cell_type": "markdown",
   "metadata": {},
   "source": [
    "Eisagwgh eikonwn"
   ]
  },
  {
   "cell_type": "code",
   "execution_count": null,
   "metadata": {},
   "outputs": [],
   "source": [
    "datapath=('C:/Users/Thomas/Documents/Datasets/lfw(250x250)/')"
   ]
  },
  {
   "cell_type": "code",
   "execution_count": null,
   "metadata": {},
   "outputs": [],
   "source": [
    "#some dataset have a different number of faces for each person, so we only use the people with min_faces images in their folders\n",
    "min_faces=30"
   ]
  },
  {
   "cell_type": "code",
   "execution_count": null,
   "metadata": {},
   "outputs": [],
   "source": [
    "faces=[]\n",
    "labels=[]"
   ]
  },
  {
   "cell_type": "code",
   "execution_count": null,
   "metadata": {},
   "outputs": [],
   "source": [
    "target_names=[]  #all the names are saved here\n",
    "total_photos_seen=0 #keeping track of the total images\n",
    "n_classes=0  #number of classes/diffent people\n",
    "folders = os.listdir(datapath)\n",
    "for folder in folders:\n",
    "    label = os.path.basename(folder)\n",
    "    training_images_path = datapath + '/' + folder\n",
    "    num_of_faces = len(os.listdir(training_images_path))\n",
    "    if num_of_faces>=min_faces:    #people with low number of faces are skipped\n",
    "        target_names.append(label)\n",
    "        n_classes=n_classes+1\n",
    "        for image in os.listdir(training_images_path):\n",
    "            total_photos_seen=total_photos_seen+1\n",
    "            image_path = training_images_path + '/' + image\n",
    "            training_image = cv2.imread(image_path)\n",
    "            face=cv2.cvtColor(training_image,cv2.COLOR_BGR2GRAY)  #making the images black and white\n",
    "            faces.append(face)\n",
    "            labels.append(n_classes)"
   ]
  },
  {
   "cell_type": "code",
   "execution_count": null,
   "metadata": {},
   "outputs": [],
   "source": [
    "#for the eigenfaces method, every image must be \"flattened\", meaning the array should be one dimentional\n",
    "flat_faces = []\n",
    "\n",
    "for face in faces:\n",
    "    flat_faces.append(face.reshape(-1))"
   ]
  },
  {
   "cell_type": "code",
   "execution_count": null,
   "metadata": {},
   "outputs": [],
   "source": [
    "flat_faces = np.array(flat_faces)\n",
    "labels=np.array(labels)"
   ]
  },
  {
   "cell_type": "markdown",
   "metadata": {},
   "source": [
    "Training"
   ]
  },
  {
   "cell_type": "code",
   "execution_count": null,
   "metadata": {},
   "outputs": [],
   "source": [
    "X_train, X_test, y_train, y_test = train_test_split(flat_faces, labels, test_size=0.20, random_state=42)"
   ]
  },
  {
   "cell_type": "code",
   "execution_count": null,
   "metadata": {},
   "outputs": [],
   "source": [
    "#These are in list type, and should become numpy.ndarray\n",
    "X_train = np.array(X_train)\n",
    "X_test = np.array(X_test)"
   ]
  },
  {
   "cell_type": "code",
   "execution_count": null,
   "metadata": {},
   "outputs": [],
   "source": [
    "#Firstly, PCA is fitted without the component parameter, so we can find the optimal number of components\n",
    "pca = PCA().fit(X_train)\n",
    "\n",
    "plt.figure(figsize=(18, 7))\n",
    "plt.plot(pca.explained_variance_ratio_.cumsum(), lw=3)"
   ]
  },
  {
   "cell_type": "code",
   "execution_count": null,
   "metadata": {},
   "outputs": [],
   "source": [
    "#the smallest value is the optimal number of components\n",
    "np.where(pca.explained_variance_ratio_.cumsum() > 0.95) #dokimes 90%-95%"
   ]
  },
  {
   "cell_type": "markdown",
   "metadata": {},
   "source": [
    "Initializations"
   ]
  },
  {
   "cell_type": "code",
   "execution_count": null,
   "metadata": {},
   "outputs": [],
   "source": [
    "import pandas as pd"
   ]
  },
  {
   "cell_type": "code",
   "execution_count": null,
   "metadata": {},
   "outputs": [],
   "source": [
    "from sklearn.pipeline import Pipeline\n",
    "from sklearn.model_selection import KFold,StratifiedKFold\n",
    "from sklearn.model_selection import cross_val_score,cross_validate"
   ]
  },
  {
   "cell_type": "code",
   "execution_count": null,
   "metadata": {},
   "outputs": [],
   "source": [
    "from sklearn.svm import LinearSVC\n",
    "from sklearn.svm import SVC\n",
    "from sklearn.neural_network import MLPClassifier\n",
    "from sklearn.neighbors import KNeighborsClassifier\n",
    "from sklearn.linear_model import LogisticRegression\n",
    "from sklearn.tree import DecisionTreeClassifier\n",
    "from sklearn.ensemble import RandomForestClassifier\n",
    "from sklearn.ensemble import AdaBoostClassifier\n",
    "from sklearn.naive_bayes import GaussianNB\n",
    "from sklearn.discriminant_analysis import QuadraticDiscriminantAnalysis\n",
    "from sklearn.gaussian_process import GaussianProcessClassifier\n",
    "from sklearn.linear_model import RidgeClassifier\n",
    "from sklearn.gaussian_process.kernels import RBF\n",
    "from sklearn.gaussian_process.kernels import DotProduct\n",
    "from sklearn.gaussian_process.kernels import Matern\n",
    "from sklearn.gaussian_process.kernels import RationalQuadratic\n",
    "from sklearn.gaussian_process.kernels import WhiteKernel"
   ]
  },
  {
   "cell_type": "code",
   "execution_count": null,
   "metadata": {},
   "outputs": [],
   "source": [
    "X_train, X_test, y_train, y_test = train_test_split(flat_faces, labels, test_size=0.15, random_state=42)"
   ]
  },
  {
   "cell_type": "code",
   "execution_count": null,
   "metadata": {},
   "outputs": [],
   "source": [
    "pca = PCA(n_components=374, svd_solver='randomized',whiten=True)"
   ]
  },
  {
   "cell_type": "code",
   "execution_count": null,
   "metadata": {},
   "outputs": [],
   "source": [
    "lda = LDA()"
   ]
  },
  {
   "cell_type": "code",
   "execution_count": null,
   "metadata": {},
   "outputs": [],
   "source": [
    "#cv=KFold(n_splits=3)\n",
    "cv=StratifiedKFold(n_splits=10)"
   ]
  },
  {
   "cell_type": "code",
   "execution_count": null,
   "metadata": {},
   "outputs": [],
   "source": [
    "scoring = {'accuracy': 'accuracy',\n",
    "           'precision_macro': 'precision_macro',\n",
    "           #'precision_micro': 'precision_micro',\n",
    "           'precision_weighted': 'precision_weighted',\n",
    "           'recall_macro': 'recall_macro',\n",
    "           #'recall_micro': 'recall_micro',\n",
    "           'recall_weighted': 'recall_weighted',           \n",
    "           'f1_macro':'f1_macro',\n",
    "           #'f1_micro':'f1_micro',\n",
    "           'f1_weighted':'f1_weighted'}"
   ]
  },
  {
   "cell_type": "code",
   "execution_count": null,
   "metadata": {},
   "outputs": [],
   "source": [
    "from functools import partial\n",
    "from hyperopt import hp, fmin, tpe, Trials\n",
    "from hyperopt.pyll.base import scope\n",
    "import optuna\n",
    "from sklearn.metrics import accuracy_score"
   ]
  },
  {
   "cell_type": "code",
   "execution_count": null,
   "metadata": {},
   "outputs": [],
   "source": [
    "#Now, for each machine learning algorithm, optuna will run and give the best parameters"
   ]
  },
  {
   "cell_type": "markdown",
   "metadata": {},
   "source": [
    "SVC"
   ]
  },
  {
   "cell_type": "code",
   "execution_count": null,
   "metadata": {},
   "outputs": [],
   "source": [
    "def optimize_svm(trial,x,y):\n",
    "    svc__C=trial.suggest_uniform(\"C\",0.001,100)\n",
    "    svc__gamma=trial.suggest_uniform(\"gamma\",0.0001,100)\n",
    "    svc__kernel=trial.suggest_categorical(\"kernel\",[\"rbf\",\"linear\", \"poly\",\"sigmoid\"])\n",
    "    svc__degree=trial.suggest_int(\"degree\",1,6)\n",
    "    pca = PCA(n_components=42, svd_solver='randomized',whiten=True)\n",
    "    lda = LDA()\n",
    "    svc=SVC(class_weight='balanced',\n",
    "           C=svc__C,\n",
    "           gamma=svc__gamma,\n",
    "           kernel=svc__kernel,\n",
    "           degree=svc__degree)\n",
    "    model = Pipeline([('pca', pca),\n",
    "                 ('lda',lda),\n",
    "                ('svc', svc)])\n",
    "    kf=StratifiedKFold(n_splits=5)\n",
    "    accuracies=[]\n",
    "    for idx in kf.split(X=x, y=y):\n",
    "        train_idx,test_idx=idx[0],idx[1]\n",
    "        x_train=x[train_idx]\n",
    "        y_train=y[train_idx]\n",
    "        \n",
    "        x_test=x[test_idx]\n",
    "        y_test=y[test_idx]\n",
    "        \n",
    "        model.fit(x_train,y_train)\n",
    "        preds=model.predict(x_test)\n",
    "        fold_acc=accuracy_score(y_test,preds)\n",
    "        accuracies.append(fold_acc)\n",
    "        \n",
    "    return - 1.0 * np.mean(accuracies)"
   ]
  },
  {
   "cell_type": "code",
   "execution_count": null,
   "metadata": {},
   "outputs": [],
   "source": [
    "optimization_function_svm=partial(optimize_svm,x=flat_faces,y=labels)"
   ]
  },
  {
   "cell_type": "code",
   "execution_count": null,
   "metadata": {},
   "outputs": [],
   "source": [
    "study_svm=optuna.create_study(direction=\"minimize\")"
   ]
  },
  {
   "cell_type": "code",
   "execution_count": null,
   "metadata": {},
   "outputs": [],
   "source": [
    "study_svm.optimize(optimization_function_svm,n_trials=150,n_jobs=-1)"
   ]
  },
  {
   "cell_type": "code",
   "execution_count": null,
   "metadata": {},
   "outputs": [],
   "source": [
    "print(study_svm.best_trial)"
   ]
  },
  {
   "cell_type": "markdown",
   "metadata": {},
   "source": [
    "K Nearest Neighbors"
   ]
  },
  {
   "cell_type": "code",
   "execution_count": null,
   "metadata": {},
   "outputs": [],
   "source": [
    "def optimize_knn(trial,x,y):\n",
    "    n_neighbors=trial.suggest_int(\"n_neighbors\",1,15)\n",
    "    p=trial.suggest_int(\"p\",1,5)\n",
    "    leaf_size=trial.suggest_int(\"leaf_size\",10,50)\n",
    "    pca = PCA(n_components=42, svd_solver='randomized',whiten=True)\n",
    "    lda = LDA()\n",
    "    knn = KNeighborsClassifier(n_neighbors=n_neighbors,p=p,leaf_size=leaf_size)\n",
    "    model = Pipeline([('pca', pca),\n",
    "                 ('lda',lda),\n",
    "                ('knn', knn)])\n",
    "    kf=StratifiedKFold(n_splits=5)\n",
    "    accuracies=[]\n",
    "    for idx in kf.split(X=x, y=y):\n",
    "        train_idx,test_idx=idx[0],idx[1]\n",
    "        x_train=x[train_idx]\n",
    "        y_train=y[train_idx]\n",
    "        \n",
    "        x_test=x[test_idx]\n",
    "        y_test=y[test_idx]\n",
    "        \n",
    "        model.fit(x_train,y_train)\n",
    "        preds=model.predict(x_test)\n",
    "        fold_acc=accuracy_score(y_test,preds)\n",
    "        accuracies.append(fold_acc)\n",
    "        \n",
    "    return - 1.0 * np.mean(accuracies)"
   ]
  },
  {
   "cell_type": "code",
   "execution_count": null,
   "metadata": {},
   "outputs": [],
   "source": [
    "optimization_function_knn=partial(optimize_knn,x=flat_faces,y=labels)"
   ]
  },
  {
   "cell_type": "code",
   "execution_count": null,
   "metadata": {},
   "outputs": [],
   "source": [
    "study_knn=optuna.create_study(direction=\"minimize\")"
   ]
  },
  {
   "cell_type": "code",
   "execution_count": null,
   "metadata": {},
   "outputs": [],
   "source": [
    "study_knn.optimize(optimization_function_knn,n_trials=150,n_jobs=-1)"
   ]
  },
  {
   "cell_type": "code",
   "execution_count": null,
   "metadata": {},
   "outputs": [],
   "source": [
    "print(study_knn.best_trial)"
   ]
  },
  {
   "cell_type": "markdown",
   "metadata": {},
   "source": [
    "MLP"
   ]
  },
  {
   "cell_type": "code",
   "execution_count": null,
   "metadata": {},
   "outputs": [],
   "source": [
    "def optimize_mlp(trial,x,y):\n",
    "    #parametroi\n",
    "    n_layers = trial.suggest_int('n_layers', 1, 10)\n",
    "    layers = []\n",
    "    for i in range(n_layers):\n",
    "        layers.append(trial.suggest_int(f'n_units_{i}', 1, 500))\n",
    "    alpha=trial.suggest_uniform(\"alpha\",0.0001,0.05)\n",
    "    learning_rate=trial.suggest_categorical(\"learning_rate\",[\"constant\",\"adaptive\"])\n",
    "    activation=trial.suggest_categorical(\"activation\",[\"tanh\",\"relu\"])\n",
    "    solver=trial.suggest_categorical(\"solver\",[\"sgd\",\"adam\"])\n",
    "    momentum = trial.suggest_uniform('momentum', 0.0, 1.0)\n",
    "    \n",
    "    pca = PCA(n_components=42, svd_solver='randomized',whiten=True)\n",
    "    lda = LDA()\n",
    "    mlp = MLPClassifier(solver=solver,activation=activation,hidden_layer_sizes=tuple(layers),learning_rate=learning_rate,alpha=alpha,momentum=momentum, verbose=0, early_stopping=True)\n",
    "    #mlp = MLPClassifier(solver='adam',hidden_layer_sizes=(h,w), batch_size=256, verbose=, early_stopping=True)\n",
    "    model = Pipeline([('pca', pca),\n",
    "                 ('lda',lda),\n",
    "                ('mlp', mlp)])\n",
    "    kf=StratifiedKFold(n_splits=5)\n",
    "    accuracies=[]\n",
    "    for idx in kf.split(X=x, y=y):\n",
    "        train_idx,test_idx=idx[0],idx[1]\n",
    "        x_train=x[train_idx]\n",
    "        y_train=y[train_idx]\n",
    "        \n",
    "        x_test=x[test_idx]\n",
    "        y_test=y[test_idx]\n",
    "        \n",
    "        model.fit(x_train,y_train)\n",
    "        preds=model.predict(x_test)\n",
    "        fold_acc=accuracy_score(y_test,preds)\n",
    "        accuracies.append(fold_acc)\n",
    "        \n",
    "    return - 1.0 * np.mean(accuracies)"
   ]
  },
  {
   "cell_type": "code",
   "execution_count": null,
   "metadata": {},
   "outputs": [],
   "source": [
    "optimization_function_mlp=partial(optimize_mlp,x=flat_faces,y=labels)"
   ]
  },
  {
   "cell_type": "code",
   "execution_count": null,
   "metadata": {},
   "outputs": [],
   "source": [
    "study_mlp=optuna.create_study(direction=\"minimize\")"
   ]
  },
  {
   "cell_type": "code",
   "execution_count": null,
   "metadata": {},
   "outputs": [],
   "source": [
    "study_mlp.optimize(optimization_function_mlp,n_trials=200,n_jobs=-1)"
   ]
  },
  {
   "cell_type": "code",
   "execution_count": null,
   "metadata": {},
   "outputs": [],
   "source": [
    "print(study_mlp.best_trial)"
   ]
  },
  {
   "cell_type": "markdown",
   "metadata": {},
   "source": [
    "Logistic Regression"
   ]
  },
  {
   "cell_type": "code",
   "execution_count": null,
   "metadata": {},
   "outputs": [],
   "source": [
    "def optimize_logreg(trial,x,y):\n",
    "    class_weight=trial.suggest_categorical(\"class_weight\",[None,\"balanced\"])\n",
    "    C=trial.suggest_uniform(\"C\",0.001,100)\n",
    "    solver=trial.suggest_categorical(\"solver\",['newton-cg', 'lbfgs', 'sag', 'saga'])\n",
    "    pca = PCA(n_components=42, svd_solver='randomized',whiten=True)\n",
    "    lda = LDA()\n",
    "    logreg = LogisticRegression(C=C,class_weight=class_weight,solver=solver)\n",
    "    model=Pipeline([('pca', pca),\n",
    "                 ('lda',lda),\n",
    "                ('logreg', logreg)])\n",
    "    kf=StratifiedKFold(n_splits=5)\n",
    "    accuracies=[]\n",
    "    for idx in kf.split(X=x, y=y):\n",
    "        train_idx,test_idx=idx[0],idx[1]\n",
    "        x_train=x[train_idx]\n",
    "        y_train=y[train_idx]\n",
    "        \n",
    "        x_test=x[test_idx]\n",
    "        y_test=y[test_idx]\n",
    "        \n",
    "        model.fit(x_train,y_train)\n",
    "        preds=model.predict(x_test)\n",
    "        fold_acc=accuracy_score(y_test,preds)\n",
    "        accuracies.append(fold_acc)\n",
    "        \n",
    "    return - 1.0 * np.mean(accuracies)"
   ]
  },
  {
   "cell_type": "code",
   "execution_count": null,
   "metadata": {},
   "outputs": [],
   "source": [
    "optimization_function_logreg=partial(optimize_logreg,x=flat_faces,y=labels)"
   ]
  },
  {
   "cell_type": "code",
   "execution_count": null,
   "metadata": {},
   "outputs": [],
   "source": [
    "study_logreg=optuna.create_study(direction=\"minimize\")"
   ]
  },
  {
   "cell_type": "code",
   "execution_count": null,
   "metadata": {},
   "outputs": [],
   "source": [
    "study_logreg.optimize(optimization_function_logreg,n_trials=150,n_jobs=-1)"
   ]
  },
  {
   "cell_type": "code",
   "execution_count": null,
   "metadata": {},
   "outputs": [],
   "source": [
    "print(study_logreg.best_trial)"
   ]
  },
  {
   "cell_type": "markdown",
   "metadata": {},
   "source": [
    "Linear SVC"
   ]
  },
  {
   "cell_type": "code",
   "execution_count": null,
   "metadata": {},
   "outputs": [],
   "source": [
    "def optimize_linsvc(trial,x,y):\n",
    "    C=trial.suggest_uniform(\"C\",0.001,100)\n",
    "    loss=trial.suggest_categorical(\"loss\",['hinge', 'squared_hinge'])\n",
    "    class_weight=trial.suggest_categorical(\"class_weight\",[None, 'balanced'])\n",
    "    fit_intercept=trial.suggest_categorical(\"fit_intercept\",[True,False])\n",
    "    pca = PCA(n_components=42, svd_solver='randomized',whiten=True)\n",
    "    lda = LDA()\n",
    "    linear_svm = LinearSVC(C=C,loss=loss,fit_intercept=fit_intercept,class_weight=class_weight)\n",
    "    model=Pipeline([('pca', pca),\n",
    "                ('lda',lda),\n",
    "                ('linear_svm', linear_svm)])\n",
    "    kf=StratifiedKFold(n_splits=5)\n",
    "    accuracies=[]\n",
    "    for idx in kf.split(X=x, y=y):\n",
    "        train_idx,test_idx=idx[0],idx[1]\n",
    "        x_train=x[train_idx]\n",
    "        y_train=y[train_idx]\n",
    "        \n",
    "        x_test=x[test_idx]\n",
    "        y_test=y[test_idx]\n",
    "        \n",
    "        model.fit(x_train,y_train)\n",
    "        preds=model.predict(x_test)\n",
    "        fold_acc=accuracy_score(y_test,preds)\n",
    "        accuracies.append(fold_acc)\n",
    "        \n",
    "    return - 1.0 * np.mean(accuracies)"
   ]
  },
  {
   "cell_type": "code",
   "execution_count": null,
   "metadata": {},
   "outputs": [],
   "source": [
    "optimization_function_linsvc=partial(optimize_linsvc,x=flat_faces,y=labels)"
   ]
  },
  {
   "cell_type": "code",
   "execution_count": null,
   "metadata": {},
   "outputs": [],
   "source": [
    "study_linsvc=optuna.create_study(direction=\"minimize\")"
   ]
  },
  {
   "cell_type": "code",
   "execution_count": null,
   "metadata": {},
   "outputs": [],
   "source": [
    "study_linsvc.optimize(optimization_function_linsvc,n_trials=150,n_jobs=-1)"
   ]
  },
  {
   "cell_type": "code",
   "execution_count": null,
   "metadata": {},
   "outputs": [],
   "source": [
    "print(study_linsvc.best_trial)"
   ]
  },
  {
   "cell_type": "markdown",
   "metadata": {},
   "source": [
    "Desicion Trees"
   ]
  },
  {
   "cell_type": "code",
   "execution_count": null,
   "metadata": {},
   "outputs": [],
   "source": [
    "def optimize_trees(trial,x,y):\n",
    "    list_max_depth=[None,2,3,4,5,6,7,8,9,10,11,12,13,14,15,16,17,18,19,20]\n",
    "    list_max_leaf_nodes=[None,2,3,4,5,6,7]\n",
    "    list_max_features=[None,1,2,3,4,5,6,7,8,9,10]\n",
    "    \n",
    "    criterion=trial.suggest_categorical(\"criterion\",[\"gini\",\"entropy\"])\n",
    "    min_impurity_decrease=trial.suggest_uniform(\"min_impurity_decrease\",0.0,0.3)\n",
    "    max_depth=trial.suggest_categorical(\"max_depth\",list_max_depth)\n",
    "    min_samples_leaf=trial.suggest_int(\"min_samples_leaf\",1,10)\n",
    "    max_leaf_nodes=trial.suggest_categorical(\"max_leaf_nodes\",list_max_leaf_nodes)\n",
    "    max_features=trial.suggest_categorical(\"max_features\",list_max_features)\n",
    "    pca = PCA(n_components=42, svd_solver='randomized',whiten=True)\n",
    "    lda = LDA()\n",
    "    tree = DecisionTreeClassifier(random_state=0,\n",
    "                                 min_impurity_decrease=min_impurity_decrease,\n",
    "                                 max_depth=max_depth,\n",
    "                                 min_samples_leaf=min_samples_leaf,\n",
    "                                 max_leaf_nodes=max_leaf_nodes,\n",
    "                                 max_features=max_features,\n",
    "                                 criterion=criterion)\n",
    "    model=Pipeline([('pca', pca),\n",
    "                ('lda',lda),\n",
    "                ('tree', tree)])\n",
    "    kf=StratifiedKFold(n_splits=5)\n",
    "    accuracies=[]\n",
    "    for idx in kf.split(X=x, y=y):\n",
    "        train_idx,test_idx=idx[0],idx[1]\n",
    "        x_train=x[train_idx]\n",
    "        y_train=y[train_idx]\n",
    "        \n",
    "        x_test=x[test_idx]\n",
    "        y_test=y[test_idx]\n",
    "        \n",
    "        model.fit(x_train,y_train)\n",
    "        preds=model.predict(x_test)\n",
    "        fold_acc=accuracy_score(y_test,preds)\n",
    "        accuracies.append(fold_acc)\n",
    "        \n",
    "    return - 1.0 * np.mean(accuracies)"
   ]
  },
  {
   "cell_type": "code",
   "execution_count": null,
   "metadata": {},
   "outputs": [],
   "source": [
    "optimization_function_trees=partial(optimize_trees,x=flat_faces,y=labels)"
   ]
  },
  {
   "cell_type": "code",
   "execution_count": null,
   "metadata": {},
   "outputs": [],
   "source": [
    "study_trees=optuna.create_study(direction=\"minimize\")"
   ]
  },
  {
   "cell_type": "code",
   "execution_count": null,
   "metadata": {},
   "outputs": [],
   "source": [
    "study_trees.optimize(optimization_function_trees,n_trials=150,n_jobs=-1)"
   ]
  },
  {
   "cell_type": "code",
   "execution_count": null,
   "metadata": {},
   "outputs": [],
   "source": [
    "print(study_trees.best_trial)"
   ]
  },
  {
   "cell_type": "markdown",
   "metadata": {},
   "source": [
    "Random Forest Classifier "
   ]
  },
  {
   "cell_type": "code",
   "execution_count": null,
   "metadata": {},
   "outputs": [],
   "source": [
    "def optimize_forrest(trial,x,y):\n",
    "    #impurity_decrease=trial.suggest_uniform(\"impurity_decrease\",0.0,0.3)\n",
    "    #min_impurity_split=trial.suggest_uniform(\"min_impurity_split\",,)\n",
    "    list_max_depth=[None,2,3,4,5,6,7,8,9,10]   \n",
    "    max_depth=trial.suggest_categorical(\"max_depth\",list_max_depth)\n",
    "    min_samples_leaf=trial.suggest_int(\"min_samples_leaf\",1,4)\n",
    "    n_estimators=trial.suggest_int(\"n_estimators\",10,600)\n",
    "    class_weight=trial.suggest_categorical(\"class_weight\",[None, 'balanced'])\n",
    "    bootstrap=trial.suggest_categorical(\"bootstrap\",[False, True])\n",
    "    pca = PCA(n_components=42, svd_solver='randomized',whiten=True)\n",
    "    lda = LDA()\n",
    "    forrest = RandomForestClassifier(random_state=0,\n",
    "                                    max_depth=max_depth,\n",
    "                                    bootstrap=bootstrap,\n",
    "                                    class_weight=class_weight,\n",
    "                                    min_samples_leaf=min_samples_leaf,\n",
    "                                    n_estimators=n_estimators)\n",
    "    model=Pipeline([('pca', pca),\n",
    "                ('lda',lda),\n",
    "                ('forrest', forrest)])\n",
    "    kf=StratifiedKFold(n_splits=5)\n",
    "    accuracies=[]\n",
    "    for idx in kf.split(X=x, y=y):\n",
    "        train_idx,test_idx=idx[0],idx[1]\n",
    "        x_train=x[train_idx]\n",
    "        y_train=y[train_idx]\n",
    "        \n",
    "        x_test=x[test_idx]\n",
    "        y_test=y[test_idx]\n",
    "        \n",
    "        model.fit(x_train,y_train)\n",
    "        preds=model.predict(x_test)\n",
    "        fold_acc=accuracy_score(y_test,preds)\n",
    "        accuracies.append(fold_acc)\n",
    "        \n",
    "    return - 1.0 * np.mean(accuracies)"
   ]
  },
  {
   "cell_type": "code",
   "execution_count": null,
   "metadata": {},
   "outputs": [],
   "source": [
    "optimization_function_forrest=partial(optimize_forrest,x=flat_faces,y=labels)"
   ]
  },
  {
   "cell_type": "code",
   "execution_count": null,
   "metadata": {},
   "outputs": [],
   "source": [
    "study_forrest=optuna.create_study(direction=\"minimize\")"
   ]
  },
  {
   "cell_type": "code",
   "execution_count": null,
   "metadata": {},
   "outputs": [],
   "source": [
    "study_forrest.optimize(optimization_function_forrest,n_trials=150,n_jobs=-1)"
   ]
  },
  {
   "cell_type": "code",
   "execution_count": null,
   "metadata": {},
   "outputs": [],
   "source": [
    "print(study_forrest.best_trial)"
   ]
  },
  {
   "cell_type": "markdown",
   "metadata": {},
   "source": [
    "AdaBoost Classifier"
   ]
  },
  {
   "cell_type": "code",
   "execution_count": null,
   "metadata": {},
   "outputs": [],
   "source": [
    "def optimize_ada(trial,x,y):\n",
    "    n_estimators=trial.suggest_int(\"n_estimators\",50,300)\n",
    "    learning_rate=trial.suggest_uniform(\"learning_rate\",0.001,1.0)\n",
    "    pca = PCA(n_components=42, svd_solver='randomized',whiten=True)\n",
    "    lda = LDA()\n",
    "    adaboost = AdaBoostClassifier(random_state=0,\n",
    "                                 n_estimators=n_estimators,\n",
    "                                 learning_rate=learning_rate)\n",
    "    model=Pipeline([('pca', pca),\n",
    "                ('lda',lda),\n",
    "                ('adaboost', adaboost)])\n",
    "    kf=StratifiedKFold(n_splits=5)\n",
    "    accuracies=[]\n",
    "    for idx in kf.split(X=x, y=y):\n",
    "        train_idx,test_idx=idx[0],idx[1]\n",
    "        x_train=x[train_idx]\n",
    "        y_train=y[train_idx]\n",
    "        \n",
    "        x_test=x[test_idx]\n",
    "        y_test=y[test_idx]\n",
    "        \n",
    "        model.fit(x_train,y_train)\n",
    "        preds=model.predict(x_test)\n",
    "        fold_acc=accuracy_score(y_test,preds)\n",
    "        accuracies.append(fold_acc)\n",
    "        \n",
    "    return - 1.0 * np.mean(accuracies)"
   ]
  },
  {
   "cell_type": "code",
   "execution_count": null,
   "metadata": {},
   "outputs": [],
   "source": [
    "optimization_function_ada=partial(optimize_ada,x=flat_faces,y=labels)"
   ]
  },
  {
   "cell_type": "code",
   "execution_count": null,
   "metadata": {},
   "outputs": [],
   "source": [
    "study_ada=optuna.create_study(direction=\"minimize\")"
   ]
  },
  {
   "cell_type": "code",
   "execution_count": null,
   "metadata": {},
   "outputs": [],
   "source": [
    "study_ada.optimize(optimization_function_ada,n_trials=150,n_jobs=-1)"
   ]
  },
  {
   "cell_type": "code",
   "execution_count": null,
   "metadata": {},
   "outputs": [],
   "source": [
    "print(study_ada.best_trial)"
   ]
  },
  {
   "cell_type": "markdown",
   "metadata": {},
   "source": [
    "GaussianNB (den xreiazetai tuning)"
   ]
  },
  {
   "cell_type": "code",
   "execution_count": null,
   "metadata": {},
   "outputs": [],
   "source": [
    "t0 = time()\n",
    "\n",
    "gnb = GaussianNB()\n",
    "\n",
    "pipe = Pipeline([('pca', pca),\n",
    "                 ('lda', lda),\n",
    "                ('gnb', gnb)])\n",
    "\n",
    "scores=cross_validate(pipe, flat_faces, labels, cv=cv,scoring=scoring,return_train_score=True,n_jobs=-1)\n",
    "\n",
    "print(\"done in %0.3fs\" % (time() - t0))"
   ]
  },
  {
   "cell_type": "markdown",
   "metadata": {},
   "source": [
    "Gaussian Process Classifier"
   ]
  },
  {
   "cell_type": "code",
   "execution_count": null,
   "metadata": {},
   "outputs": [],
   "source": [
    "def optimize_gauss(trial,x,y):\n",
    "    #kernel_l=[\"DotProduct\",\"Matern\",\"RBF\",\"RationalQuadratic\",\"WhiteKernel\"]\n",
    "    #kernel = trial.suggest_categorical(\"kernel\", kernel_l)\n",
    "    \n",
    "#    if kernel==\"DotProduct\":\n",
    "#        sigma_0=trial.suggest_uniform(\"sigma_0\",0.2,3.0)\n",
    " #       gpc = GaussianProcessClassifier(kernel=1.0*DotProduct(sigma_0=sigma_0),\n",
    " #                                   random_state=0)\n",
    "#    elif kernel==\"Matern\":\n",
    " #       length_scale=trial.suggest_uniform(\"length_scale\",0.2,3.0)\n",
    "#        gpc = GaussianProcessClassifier(kernel=1.0*Matern(length_scale=length_scale),\n",
    "#                                    random_state=0)\n",
    "#    elif kernel==\"RBF\":\n",
    "    length_scale=trial.suggest_uniform(\"length_scale\",0.2,3.0)\n",
    "    gpc = GaussianProcessClassifier(kernel=1.0*RBF(length_scale=length_scale),\n",
    "                                random_state=0)\n",
    "#    elif kernel==\"RationalQuadratic\":\n",
    "#        length_scale=trial.suggest_uniform(\"length_scale\",0.2,3.0)\n",
    "#        gpc = GaussianProcessClassifier(kernel=1.0*RationalQuadratic(length_scale=length_scale),\n",
    "#                                    random_state=0)\n",
    "#    else:\n",
    "#        noise_level=trial.suggest_uniform(\"noise_level\",0.5,1.5)\n",
    "#        gpc = GaussianProcessClassifier(kernel=1.0*WhiteKernel(noise_level=noise_level),\n",
    "#                                    random_state=0)\n",
    "    \n",
    "    #warm_start = trial.suggest_categorical(\"warm_start\", [True,False])\n",
    "    #n_restarts_optimizer = trial.suggest_categorical(\"n_restarts_optimizer\", [0,1,2,3,4,5,6,7,8,9,10])\n",
    "    #copy_X_train = trial.suggest_categorical(\"copy_X_train\", [True,False])\n",
    "    \n",
    "    pca = PCA(n_components=42, svd_solver='randomized',whiten=True)\n",
    "    lda = LDA()\n",
    "    #gpc = GaussianProcessClassifier(warm_start=warm_start,\n",
    "     #                               n_restarts_optimizer=n_restarts_optimizer,\n",
    "      #                              copy_X_train=copy_X_train,\n",
    "       #                             random_state=0)\n",
    "    model=Pipeline([('pca', pca),\n",
    "                ('lda',lda),\n",
    "                ('gpc', gpc)])\n",
    "    kf=StratifiedKFold(n_splits=5)\n",
    "    accuracies=[]\n",
    "    for idx in kf.split(X=x, y=y):\n",
    "        train_idx,test_idx=idx[0],idx[1]\n",
    "        x_train=x[train_idx]\n",
    "        y_train=y[train_idx]\n",
    "        \n",
    "        x_test=x[test_idx]\n",
    "        y_test=y[test_idx]\n",
    "        \n",
    "        model.fit(x_train,y_train)\n",
    "        preds=model.predict(x_test)\n",
    "        fold_acc=accuracy_score(y_test,preds)\n",
    "        accuracies.append(fold_acc)\n",
    "        \n",
    "    return - 1.0 * np.mean(accuracies)"
   ]
  },
  {
   "cell_type": "code",
   "execution_count": null,
   "metadata": {},
   "outputs": [],
   "source": [
    "optimization_function_gauss=partial(optimize_gauss,x=flat_faces,y=labels)"
   ]
  },
  {
   "cell_type": "code",
   "execution_count": null,
   "metadata": {},
   "outputs": [],
   "source": [
    "study_gauss=optuna.create_study(direction=\"minimize\")"
   ]
  },
  {
   "cell_type": "code",
   "execution_count": null,
   "metadata": {},
   "outputs": [],
   "source": [
    "study_gauss.optimize(optimization_function_gauss,n_trials=150,n_jobs=-1)"
   ]
  },
  {
   "cell_type": "code",
   "execution_count": null,
   "metadata": {},
   "outputs": [],
   "source": [
    "print(study_gauss.best_trial)"
   ]
  },
  {
   "cell_type": "markdown",
   "metadata": {},
   "source": [
    "Ridge Classifier"
   ]
  },
  {
   "cell_type": "code",
   "execution_count": null,
   "metadata": {},
   "outputs": [],
   "source": [
    "def optimize_ridge(trial,x,y):\n",
    "    alpha_list = [0.1, 0.2, 0.3, 0.4, 0.5, 0.6, 0.7, 0.8, 0.9, 1.0]\n",
    "    alpha=trial.suggest_categorical(\"alpha\",alpha_list)\n",
    "    solver=trial.suggest_categorical(\"solver\",['auto', 'svd', 'cholesky', 'lsqr', 'sparse_cg', 'sag', 'saga'])  \n",
    "    class_weight=trial.suggest_categorical(\"class_weight\",[None, 'balanced'])\n",
    "    \n",
    "    pca = PCA(n_components=42, svd_solver='randomized',whiten=True)\n",
    "    lda = LDA()\n",
    "    ridge = RidgeClassifier(alpha=alpha,solver=solver,class_weight=class_weight)\n",
    "    model=Pipeline([('pca', pca),\n",
    "                ('lda',lda),\n",
    "                ('ridge', ridge)])\n",
    "    kf=StratifiedKFold(n_splits=5)\n",
    "    accuracies=[]\n",
    "    for idx in kf.split(X=x, y=y):\n",
    "        train_idx,test_idx=idx[0],idx[1]\n",
    "        x_train=x[train_idx]\n",
    "        y_train=y[train_idx]\n",
    "        \n",
    "        x_test=x[test_idx]\n",
    "        y_test=y[test_idx]\n",
    "        \n",
    "        model.fit(x_train,y_train)\n",
    "        preds=model.predict(x_test)\n",
    "        fold_acc=accuracy_score(y_test,preds)\n",
    "        accuracies.append(fold_acc)\n",
    "        \n",
    "    return - 1.0 * np.mean(accuracies)"
   ]
  },
  {
   "cell_type": "code",
   "execution_count": null,
   "metadata": {},
   "outputs": [],
   "source": [
    "optimization_function_ridge=partial(optimize_ridge,x=flat_faces,y=labels)"
   ]
  },
  {
   "cell_type": "code",
   "execution_count": null,
   "metadata": {},
   "outputs": [],
   "source": [
    "study_ridge=optuna.create_study(direction=\"minimize\")"
   ]
  },
  {
   "cell_type": "code",
   "execution_count": null,
   "metadata": {},
   "outputs": [],
   "source": [
    "study_ridge.optimize(optimization_function_ridge,n_trials=100,n_jobs=2)"
   ]
  },
  {
   "cell_type": "code",
   "execution_count": null,
   "metadata": {},
   "outputs": [],
   "source": [
    "print(study_ridge.best_trial)"
   ]
  }
 ],
 "metadata": {
  "kernelspec": {
   "display_name": "Python 3",
   "language": "python",
   "name": "python3"
  },
  "language_info": {
   "codemirror_mode": {
    "name": "ipython",
    "version": 3
   },
   "file_extension": ".py",
   "mimetype": "text/x-python",
   "name": "python",
   "nbconvert_exporter": "python",
   "pygments_lexer": "ipython3",
   "version": "3.6.10"
  }
 },
 "nbformat": 4,
 "nbformat_minor": 4
}
